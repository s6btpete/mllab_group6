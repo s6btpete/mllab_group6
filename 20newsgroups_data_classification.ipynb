{
 "cells": [
  {
   "cell_type": "markdown",
   "metadata": {},
   "source": [
    "# \"20 Newsgroups\" Classification"
   ]
  },
  {
   "cell_type": "markdown",
   "metadata": {},
   "source": [
    "#### Some imports:"
   ]
  },
  {
   "cell_type": "code",
   "execution_count": 51,
   "metadata": {},
   "outputs": [],
   "source": [
    "import numpy as np\n",
    "from sklearn.datasets import fetch_20newsgroups\n",
    "from pprint import pprint\n",
    "from sklearn.feature_extraction.text import TfidfVectorizer\n",
    "from sklearn.feature_extraction.text import TfidfTransformer\n",
    "from sklearn.feature_extraction.text import CountVectorizer\n",
    "from sklearn.naive_bayes import MultinomialNB\n",
    "from sklearn.pipeline import Pipeline\n",
    "from sklearn import metrics\n",
    "from sklearn.svm import SVC\n",
    "from sklearn.model_selection import GridSearchCV\n",
    "from sklearn.svm import LinearSVC\n",
    "\n",
    "import matplotlib.pyplot as plt\n",
    "import matplotlib as mpl\n"
   ]
  },
  {
   "cell_type": "markdown",
   "metadata": {},
   "source": [
    "#### Load 20newsgroup data:"
   ]
  },
  {
   "cell_type": "code",
   "execution_count": 52,
   "metadata": {},
   "outputs": [
    {
     "name": "stdout",
     "output_type": "stream",
     "text": [
      "['alt.atheism', 'comp.graphics', 'sci.space', 'talk.religion.misc']\n"
     ]
    }
   ],
   "source": [
    "categories = ['alt.atheism', 'talk.religion.misc', 'comp.graphics', 'sci.space']\n",
    "newsgroups_train = fetch_20newsgroups(subset='train', remove=('headers', 'footers', 'quotes'), categories=categories)\n",
    "newsgroups_test = fetch_20newsgroups(subset='test', remove=('headers', 'footers', 'quotes'), categories=categories)\n",
    "\n",
    "pprint(list(newsgroups_train.target_names))"
   ]
  },
  {
   "cell_type": "markdown",
   "metadata": {},
   "source": [
    "#### Vectorize data for classification\n",
    "\n",
    "Now we vectorize the data using a term-frequency-times-inverse-document-frequency (TF-IDF) vectorizer. The  term frequency (TF)  \n",
    "\n",
    "$$ \\text{TF}_{t}(D):=\\frac{n_t(D)+1}{\\text{max}_{s\\in D} n_t(D)+1}$$\n",
    "\n",
    "measures the frequency $n_t(D)$ of a term  $t$ in a document $D$ relative to the largest such number in $D$.\n",
    "The inverse document frequency (IDF) is defined by \n",
    "\n",
    "$$ \\text{IDF}_{t}:=\\log\\left(\\frac{N_D}{f_t}\\right)+1, $$\n",
    "\n",
    "where $N_{D}$ is the number of documents and $f_{t}$ is the number of documents that contain $t$. The TF-IDF measure is then simply \n",
    "\n",
    "$$ \\text{TF-IDF}_{t}(D):=\\text{TF}_{t}(D)\\cdot\\text{IDF}_{t}.$$\n",
    "\n",
    "It measures the relevance of a term in a set of documents."
   ]
  },
  {
   "cell_type": "code",
   "execution_count": 228,
   "metadata": {},
   "outputs": [
    {
     "name": "stdout",
     "output_type": "stream",
     "text": [
      "(2034, 189472) (1353, 189472)\n"
     ]
    }
   ],
   "source": [
    "vectorizer = TfidfVectorizer(ngram_range=(1, 2), stop_words='english')\n",
    "#vectorizer = TfidfVectorizer(ngram_range=(1, 2))\n",
    "vectors_train = vectorizer.fit_transform(newsgroups_train.data)\n",
    "vectors_test = vectorizer.transform(newsgroups_test.data)\n",
    "\n",
    "print(vectors_train.shape, vectors_test.shape)"
   ]
  },
  {
   "cell_type": "markdown",
   "metadata": {},
   "source": [
    "We use a Naive Bayes Classifier (NBC) to classify data in a first step."
   ]
  },
  {
   "cell_type": "code",
   "execution_count": 229,
   "metadata": {},
   "outputs": [
    {
     "data": {
      "text/plain": [
       "0.7784200130921102"
      ]
     },
     "execution_count": 229,
     "metadata": {},
     "output_type": "execute_result"
    }
   ],
   "source": [
    "clf = MultinomialNB(alpha=.01)\n",
    "clf.fit(vectors_train, newsgroups_train.target)\n",
    "pred = clf.predict(vectors_test)\n",
    "\n",
    "metrics.f1_score(newsgroups_test.target, pred, average='macro')"
   ]
  },
  {
   "cell_type": "code",
   "execution_count": 230,
   "metadata": {},
   "outputs": [
    {
     "name": "stdout",
     "output_type": "stream",
     "text": [
      "alt.atheism: islam does religion atheism say just think don people god\n",
      "comp.graphics: looking windows does program know file files image thanks graphics\n",
      "sci.space: lunar earth shuttle just moon orbit launch like nasa space\n",
      "talk.religion.misc: objective think just don christians bible christian people jesus god\n"
     ]
    }
   ],
   "source": [
    "def show_top10(classifier, vectorizer, categories):\n",
    "    feature_names = np.asarray(vectorizer.get_feature_names())\n",
    "    for i, category in enumerate(categories):\n",
    "        top10 = np.argsort(classifier.coef_[i])[-10:]\n",
    "        print(\"%s: %s\" % (category, \" \".join(feature_names[top10])))\n",
    "        \n",
    "show_top10(clf, vectorizer, newsgroups_train.target_names)"
   ]
  },
  {
   "cell_type": "code",
   "execution_count": 63,
   "metadata": {},
   "outputs": [
    {
     "name": "stdout",
     "output_type": "stream",
     "text": [
      "\n",
      "He is God.\n",
      "\n",
      "\n",
      "He is God.\n",
      "\n",
      "\n",
      "God granted you the gift of life whether you were sinner or saint.\n",
      " \n",
      "\n",
      "The scientist creates the living creature to examine it, poke and prod it and\n",
      "learn about its behaviour.  He will kill it if it becomes a threat.  For\n",
      "example, let's say the scientist creates a Tyrannosaurus Rex and it breaks\n",
      "free of its confines and starts devouring the population.  The scientist\n",
      "would not hesitate in killing it.\n",
      "\n",
      "God creates us to be His loving companions.  He knows whether we are true in \n",
      "our love for Him or not.  And He lets us know the consequences of rejecting Him.\n",
      "God cannot abide by sin.  By rejecting God, a person becomes an enemy of God,\n",
      "one that must be killed by Him.  Note:  I say that God and God alone is\n",
      "worthy to be Judge, Jury and Executioner.  We are not called to carry out\n",
      "such duties because we are not worthy.\n",
      " \n",
      "\n",
      "God is God.  Who are we to question the Creator?  If you doubt God's doing\n",
      "in certain situations, do you claim to know a better solution?  Would you\n",
      "be playing the role of God?\n"
     ]
    }
   ],
   "source": [
    "print(newsgroups_test.data[107])"
   ]
  },
  {
   "cell_type": "markdown",
   "metadata": {},
   "source": [
    "### Gridsearch:"
   ]
  },
  {
   "cell_type": "code",
   "execution_count": 31,
   "metadata": {},
   "outputs": [],
   "source": [
    "from sklearn.model_selection import GridSearchCV\n",
    "\n",
    "categories = ['comp.os.ms-windows.misc','soc.religion.christian','misc.forsale','sci.med']\n",
    "\n",
    "parameters = {'vect__max_df': (0.5, 0.75, 1.0), \n",
    "              'vect__ngram_range': [(1, 1), (1, 2)],\n",
    "              'vect__stop_words': ['english', None], \n",
    "              'clf__C':[.1,1,10]\n",
    "             }\n",
    "              \n",
    "def gs_cv(categories, parameters):\n",
    "    \n",
    "    newsgroups_train = fetch_20newsgroups(subset='train', \n",
    "                                          remove=('headers', 'footers', 'quotes'), \n",
    "                                          categories=categories)\n",
    "\n",
    "    text_clf = Pipeline([('vect', CountVectorizer()), \n",
    "                         ('tfidf', TfidfTransformer()), \n",
    "                         ('clf', LinearSVC())])\n",
    "    \n",
    "    gs_clf = GridSearchCV(text_clf, parameters, n_jobs=-1, cv=5)\n",
    "    gs_clf = gs_clf.fit(newsgroups_train.data, newsgroups_train.target)\n",
    "    \n",
    "    return gs_clf.best_params_"
   ]
  },
  {
   "cell_type": "code",
   "execution_count": 32,
   "metadata": {},
   "outputs": [
    {
     "data": {
      "text/plain": [
       "{'clf__C': 10,\n",
       " 'vect__max_df': 0.5,\n",
       " 'vect__ngram_range': (1, 2),\n",
       " 'vect__stop_words': 'english'}"
      ]
     },
     "execution_count": 32,
     "metadata": {},
     "output_type": "execute_result"
    }
   ],
   "source": [
    "gs_cv(categories, parameters)"
   ]
  },
  {
   "cell_type": "code",
   "execution_count": 45,
   "metadata": {},
   "outputs": [],
   "source": [
    "def classify(categories, output=True, get_clf=False):\n",
    "    \n",
    "    newsgroups_train = fetch_20newsgroups(subset='train', \n",
    "                                          remove=('headers', 'footers', 'quotes'), \n",
    "                                          categories=categories)\n",
    "\n",
    "    text_clf = Pipeline([('vect', CountVectorizer(max_df=.5, ngram_range=(1,2), stop_words='english')), \n",
    "                         ('tfidf', TfidfTransformer()), \n",
    "                         ('clf', LinearSVC(C=10))])\n",
    "    _ = text_clf.fit(newsgroups_train.data, newsgroups_train.target)\n",
    "\n",
    "    newsgroups_test = fetch_20newsgroups(subset='test', \n",
    "                                         remove=('headers', 'footers', 'quotes'), \n",
    "                                         categories=categories)\n",
    "    \n",
    "    predicted = text_clf.predict(newsgroups_test.data)\n",
    "    accuracy = np.mean(predicted == newsgroups_test.target)\n",
    "    \n",
    "    if output == True:\n",
    "        print(\"categories : \", categories)\n",
    "        print(\"accuracy: \", accuracy) \n",
    "        print(metrics.classification_report(newsgroups_test.target, predicted, \n",
    "                                            target_names=newsgroups_test.target_names))\n",
    "        \n",
    "    if get_clf: return text_clf\n",
    "    \n",
    "    return accuracy\n",
    "    "
   ]
  },
  {
   "cell_type": "markdown",
   "metadata": {},
   "source": [
    "#### Thematisch sehr unterschiedliche Kategorien:"
   ]
  },
  {
   "cell_type": "code",
   "execution_count": 35,
   "metadata": {},
   "outputs": [
    {
     "name": "stdout",
     "output_type": "stream",
     "text": [
      "categories :  ['comp.os.ms-windows.misc', 'soc.religion.christian', 'misc.forsale', 'sci.med']\n",
      "accuracy:  0.8891001267427123\n",
      "                         precision    recall  f1-score   support\n",
      "\n",
      "comp.os.ms-windows.misc       0.82      0.87      0.84       394\n",
      "           misc.forsale       0.92      0.92      0.92       390\n",
      "                sci.med       0.91      0.85      0.88       396\n",
      " soc.religion.christian       0.91      0.91      0.91       398\n",
      "\n",
      "              micro avg       0.89      0.89      0.89      1578\n",
      "              macro avg       0.89      0.89      0.89      1578\n",
      "           weighted avg       0.89      0.89      0.89      1578\n",
      "\n"
     ]
    },
    {
     "data": {
      "text/plain": [
       "0.8891001267427123"
      ]
     },
     "execution_count": 35,
     "metadata": {},
     "output_type": "execute_result"
    }
   ],
   "source": [
    "categories = ['comp.os.ms-windows.misc','soc.religion.christian','misc.forsale','sci.med']\n",
    "classify(categories)"
   ]
  },
  {
   "cell_type": "markdown",
   "metadata": {},
   "source": [
    "#### Thematisch sehr ähnliche Kategorien:"
   ]
  },
  {
   "cell_type": "code",
   "execution_count": 36,
   "metadata": {},
   "outputs": [
    {
     "name": "stdout",
     "output_type": "stream",
     "text": [
      "categories :  ['comp.os.ms-windows.misc', 'comp.sys.ibm.pc.hardware', 'comp.sys.mac.hardware', 'comp.windows.x']\n",
      "accuracy:  0.7618135376756067\n",
      "                          precision    recall  f1-score   support\n",
      "\n",
      " comp.os.ms-windows.misc       0.69      0.71      0.70       394\n",
      "comp.sys.ibm.pc.hardware       0.73      0.74      0.74       392\n",
      "   comp.sys.mac.hardware       0.78      0.79      0.79       385\n",
      "          comp.windows.x       0.85      0.80      0.83       395\n",
      "\n",
      "               micro avg       0.76      0.76      0.76      1566\n",
      "               macro avg       0.76      0.76      0.76      1566\n",
      "            weighted avg       0.76      0.76      0.76      1566\n",
      "\n"
     ]
    },
    {
     "data": {
      "text/plain": [
       "0.7618135376756067"
      ]
     },
     "execution_count": 36,
     "metadata": {},
     "output_type": "execute_result"
    }
   ],
   "source": [
    "categories = ['comp.os.ms-windows.misc','comp.sys.ibm.pc.hardware','comp.sys.mac.hardware','comp.windows.x']\n",
    "classify(categories)"
   ]
  },
  {
   "cell_type": "markdown",
   "metadata": {},
   "source": [
    "#### Alle Kategorien:"
   ]
  },
  {
   "cell_type": "code",
   "execution_count": 37,
   "metadata": {},
   "outputs": [
    {
     "name": "stdout",
     "output_type": "stream",
     "text": [
      "categories :  None\n",
      "accuracy:  0.703797132235794\n",
      "                          precision    recall  f1-score   support\n",
      "\n",
      "             alt.atheism       0.54      0.48      0.51       319\n",
      "           comp.graphics       0.68      0.72      0.70       389\n",
      " comp.os.ms-windows.misc       0.64      0.63      0.64       394\n",
      "comp.sys.ibm.pc.hardware       0.65      0.67      0.66       392\n",
      "   comp.sys.mac.hardware       0.74      0.70      0.72       385\n",
      "          comp.windows.x       0.82      0.72      0.77       395\n",
      "            misc.forsale       0.72      0.80      0.76       390\n",
      "               rec.autos       0.51      0.78      0.62       396\n",
      "         rec.motorcycles       0.82      0.75      0.79       398\n",
      "      rec.sport.baseball       0.84      0.81      0.83       397\n",
      "        rec.sport.hockey       0.88      0.89      0.89       399\n",
      "               sci.crypt       0.82      0.72      0.77       396\n",
      "         sci.electronics       0.66      0.60      0.63       393\n",
      "                 sci.med       0.78      0.79      0.79       396\n",
      "               sci.space       0.75      0.76      0.76       394\n",
      "  soc.religion.christian       0.66      0.82      0.73       398\n",
      "      talk.politics.guns       0.60      0.66      0.63       364\n",
      "   talk.politics.mideast       0.87      0.76      0.81       376\n",
      "      talk.politics.misc       0.57      0.46      0.51       310\n",
      "      talk.religion.misc       0.47      0.29      0.36       251\n",
      "\n",
      "               micro avg       0.70      0.70      0.70      7532\n",
      "               macro avg       0.70      0.69      0.69      7532\n",
      "            weighted avg       0.71      0.70      0.70      7532\n",
      "\n"
     ]
    },
    {
     "data": {
      "text/plain": [
       "0.703797132235794"
      ]
     },
     "execution_count": 37,
     "metadata": {},
     "output_type": "execute_result"
    }
   ],
   "source": [
    "classify(None)"
   ]
  },
  {
   "cell_type": "code",
   "execution_count": 40,
   "metadata": {},
   "outputs": [],
   "source": [
    "test_scores  = []\n",
    "\n",
    "for i in range(2,20):\n",
    "    test_scores.append(classify(newsgroups_train.target_names[:i], output=False))\n"
   ]
  },
  {
   "cell_type": "code",
   "execution_count": 41,
   "metadata": {},
   "outputs": [
    {
     "data": {
      "image/png": "[encoded data removed]",
      "text/plain": [
       "<matplotlib.figure.Figure at 0x11a86bef0>"
      ]
     },
     "metadata": {},
     "output_type": "display_data"
    }
   ],
   "source": [
    "rng = range(2,20)\n",
    "plt.plot(rng, test_scores, marker='.', color='xkcd:hot pink')\n",
    "plt.legend(['test scores'])\n",
    "plt.title(' number of classes vs. accuracy')\n",
    "plt.savefig('filename.png', dpi=300)"
   ]
  },
  {
   "cell_type": "code",
   "execution_count": 49,
   "metadata": {},
   "outputs": [
    {
     "name": "stdout",
     "output_type": "stream",
     "text": [
      "[2]\n"
     ]
    }
   ],
   "source": [
    "Trump_tweet = \"I will be strongly pushing Comprehensive \\\n",
    "                Background Checks with an emphasis on Mental Health. \\\n",
    "                Raise age to 21 and end sale of Bump Stocks! \\\n",
    "                Congress is in a mood to finally do something on this issue - I hope!\"\n",
    "\n",
    "categories = ['alt.atheism','comp.windows.x','talk.politics.guns']\n",
    "clf_trump = classify(categories, output=False, get_clf=True)\n",
    "print(clf_trump.predict([Trump_tweet]))"
   ]
  },
  {
   "cell_type": "markdown",
   "metadata": {},
   "source": [
    "### Tremendous!"
   ]
  }
 ],
 "metadata": {
  "kernelspec": {
   "display_name": "Python 3",
   "language": "python",
   "name": "python3"
  },
  "language_info": {
   "codemirror_mode": {
    "name": "ipython",
    "version": 3
   },
   "file_extension": ".py",
   "mimetype": "text/x-python",
   "name": "python",
   "nbconvert_exporter": "python",
   "pygments_lexer": "ipython3",
   "version": "3.6.4"
  }
 },
 "nbformat": 4,
 "nbformat_minor": 2
}
